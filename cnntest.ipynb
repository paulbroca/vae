{
 "cells": [
  {
   "cell_type": "code",
   "execution_count": 195,
   "metadata": {},
   "outputs": [],
   "source": [
    "from keras.layers import Lambda, Input, Dense\n",
    "from keras.models import Model\n",
    "from keras.losses import mse, binary_crossentropy\n",
    "from keras.utils import plot_model\n",
    "from keras.models import Sequential\n",
    "from keras.layers import concatenate\n",
    "from keras import backend as K\n",
    "from keras.callbacks import Callback\n",
    "from keras.layers import Dropout, Flatten\n",
    "from keras.layers import Conv2D, MaxPooling2D, UpSampling2D\n",
    "import tensorflow as tf\n",
    "import numpy as np\n",
    "import matplotlib.pyplot as plt\n",
    "import os\n",
    "from scipy import interpolate\n",
    "import keras\n",
    "from keras.layers import Dense, Dropout, Flatten\n",
    "from keras.layers import Conv2D, MaxPooling2D\n",
    "from keras.optimizers import SGD\n",
    "from keras.utils import to_categorical\n",
    "from keras.models import load_model"
   ]
  },
  {
   "cell_type": "code",
   "execution_count": 184,
   "metadata": {},
   "outputs": [
    {
     "name": "stdout",
     "output_type": "stream",
     "text": [
      "[[0.       0.       0.654545 ... 0.       0.       0.      ]\n",
      " [0.       0.       0.654545 ... 0.       0.       0.      ]\n",
      " [0.       0.       0.654545 ... 0.       0.       0.      ]\n",
      " ...\n",
      " [0.       0.       0.       ... 0.       0.       0.      ]\n",
      " [0.       0.       0.       ... 0.       0.       0.      ]\n",
      " [0.       0.       0.       ... 0.       0.       0.      ]]\n",
      "97.91999999999989\n",
      "[0.79380939 0.79380869 0.79380619 ... 0.79569875 0.79571475 0.795718  ]\n",
      "(761, 1024)\n"
     ]
    }
   ],
   "source": [
    "filename = 'D:\\\\python\\\\cnn\\\\data.npz'\n",
    "\n",
    "def Load_Data(filename):\n",
    "\n",
    "  data = np.load(filename)\n",
    "  Output = data['Output']\n",
    "  Input_current = data['Input_current']\n",
    "  Input_powergrid = data['Input_powergrid']\n",
    "  data = {'Output':Output, 'Input_current':Input_current, 'Input_powergrid':Input_powergrid}\n",
    "  return Output,Input_current,Input_powergrid\n",
    "\n",
    "Output,Input_current,Input_powergrid = Load_Data(filename)\n",
    "image_size = 32\n",
    "original_dim = 1024\n",
    "\n",
    "z_train = Input_powergrid.reshape(-1,Input_powergrid.shape[1])\n",
    "iset=[]\n",
    "jset=[]\n",
    "kset=[]\n",
    "for i in(range(Output.shape[0])):\n",
    "    for j in(range(Output.shape[1])):\n",
    "        for k in(range(Output.shape[2])):\n",
    "            if Input_current[i][j][k] > 0:\n",
    "                iset.append(i)\n",
    "                jset.append(j)\n",
    "                kset.append(k)\n",
    "    #zz_train = 1 - zz_train          \n",
    "    #t_train = np.concatenate((zz_train,z_train),axis=1)\n",
    "#print(len(iset))\n",
    "#print(len(jset))\n",
    "#print(len(kset))\n",
    "for i in(range(len(iset))):\n",
    "    minc=max(0,kset[i]-2)\n",
    "    maxc=min(31,kset[i]+2)\n",
    "    minl=max(0,jset[i]-2)\n",
    "    maxl=min(31,jset[i]+2)\n",
    "    x=iset[i]\n",
    "    y=jset[i]\n",
    "    z=kset[i]\n",
    "    value = Input_current[x][y][z]\n",
    "    #print(value)\n",
    "    for j in(range(minl,maxl)):\n",
    "        for k in(range(minc,maxc)):\n",
    "            Input_current[x][j][k]=value\n",
    "\n",
    "zz_train = Input_current.reshape(-1,original_dim)\n",
    "            \n",
    "print(Input_current[1])\n",
    "#t_train = zz_train\n",
    "#x_test = Input_current.reshape(-1,original_dim)\n",
    "#x_test = t_train[2000:]\n",
    "#x_train = t_train\n",
    "x_train = z_train[:2000]\n",
    "x_test = z_train[2000:]\n",
    "xx_train = zz_train[:2000]\n",
    "xx_test = zz_train[2000:]\n",
    "yy_train = Output.reshape(-1,original_dim)\n",
    "y_test = yy_train[2000:]\n",
    "y_train = yy_train[:2000]\n",
    "#y_test = Output.reshape(-1,original_dim)\n",
    "print(sum(zz_train[0]))\n",
    "print(y_train[0])\n",
    "print(y_test.shape)"
   ]
  },
  {
   "cell_type": "code",
   "execution_count": 4,
   "metadata": {},
   "outputs": [
    {
     "ename": "NameError",
     "evalue": "name 'batch_size' is not defined",
     "output_type": "error",
     "traceback": [
      "\u001b[1;31m---------------------------------------------------------------------------\u001b[0m",
      "\u001b[1;31mNameError\u001b[0m                                 Traceback (most recent call last)",
      "\u001b[1;32m<ipython-input-4-69585307e682>\u001b[0m in \u001b[0;36m<module>\u001b[1;34m\u001b[0m\n\u001b[0;32m     15\u001b[0m \u001b[0mmodel\u001b[0m\u001b[1;33m.\u001b[0m\u001b[0mcompile\u001b[0m\u001b[1;33m(\u001b[0m\u001b[0moptimizer\u001b[0m \u001b[1;33m=\u001b[0m \u001b[1;34m\"rmsprop\"\u001b[0m\u001b[1;33m,\u001b[0m \u001b[0mloss\u001b[0m \u001b[1;33m=\u001b[0m \u001b[0mroot_mean_squared_error\u001b[0m\u001b[1;33m,\u001b[0m\u001b[0mmetrics\u001b[0m \u001b[1;33m=\u001b[0m\u001b[1;33m[\u001b[0m\u001b[1;34m\"accuracy\"\u001b[0m\u001b[1;33m]\u001b[0m\u001b[1;33m)\u001b[0m\u001b[1;33m\u001b[0m\u001b[1;33m\u001b[0m\u001b[0m\n\u001b[0;32m     16\u001b[0m   \u001b[1;31m#model.compile(loss='categorical_crossentropy', optimizer=sgd,metrics=['accuracy'])\u001b[0m\u001b[1;33m\u001b[0m\u001b[1;33m\u001b[0m\u001b[1;33m\u001b[0m\u001b[0m\n\u001b[1;32m---> 17\u001b[1;33m \u001b[0mhistory\u001b[0m \u001b[1;33m=\u001b[0m \u001b[0mmodel\u001b[0m\u001b[1;33m.\u001b[0m\u001b[0mfit\u001b[0m\u001b[1;33m(\u001b[0m\u001b[0mx_train\u001b[0m\u001b[1;33m,\u001b[0m \u001b[0my_train\u001b[0m\u001b[1;33m,\u001b[0m \u001b[0mbatch_size\u001b[0m\u001b[1;33m=\u001b[0m\u001b[0mbatch_size\u001b[0m\u001b[1;33m,\u001b[0m \u001b[0mepochs\u001b[0m\u001b[1;33m=\u001b[0m\u001b[0mepochs\u001b[0m\u001b[1;33m,\u001b[0m \u001b[0mvalidation_split\u001b[0m\u001b[1;33m=\u001b[0m\u001b[1;36m0.3\u001b[0m\u001b[1;33m)\u001b[0m\u001b[1;33m\u001b[0m\u001b[1;33m\u001b[0m\u001b[0m\n\u001b[0m\u001b[0;32m     18\u001b[0m \u001b[1;31m#  return model,history\u001b[0m\u001b[1;33m\u001b[0m\u001b[1;33m\u001b[0m\u001b[1;33m\u001b[0m\u001b[0m\n\u001b[0;32m     19\u001b[0m \u001b[1;33m\u001b[0m\u001b[0m\n",
      "\u001b[1;31mNameError\u001b[0m: name 'batch_size' is not defined"
     ]
    }
   ],
   "source": [
    "def root_mean_squared_error(y_true, y_pred): \n",
    "     return K.sqrt(K.mean(K.square(y_pred - y_true), axis=-1)) \n",
    "input_img = Input(shape=(32, 32, 1))    \n",
    "#def training_model(x_train,y_train,batch_size,epochs):\n",
    "model = Sequential()\n",
    "  # input: 180x320 images with 3 channels -> (180, 320, 3) tensors.\n",
    "  # this applies 32 convolution filters of size 3x3 each.\n",
    "  #1024->128>8*8 +6 = 70->64-> 128->1024\n",
    "model.add(Dense(256, activation='relu'))\n",
    "model.add(Dense(64, activation='relu'))\n",
    "model.add(Dense(256, activation='relu'))\n",
    "model.add(Dense(1024, activation='softmax'))\n",
    "  #sgd = SGD(lr=0.01, decay=1e-6, momentum=0.9, nesterov=True)\n",
    "  #model.compile(loss='categorical_crossentropy', optimizer='rmsprop',metric\n",
    "model.compile(optimizer = \"rmsprop\", loss = root_mean_squared_error,metrics =[\"accuracy\"])\n",
    "  #model.compile(loss='categorical_crossentropy', optimizer=sgd,metrics=['accuracy'])\n",
    "history = model.fit(x_train, y_train, batch_size=batch_size, epochs=epochs, validation_split=0.3)\n",
    "#  return model,history\n",
    "\n",
    "input1 = keras.layers.Input(shape=(1024,))\n",
    "x1 = keras.layers.Dense(8, activation='relu')(input1)\n",
    "input2 = keras.layers.Input(shape=(6,))\n",
    "x2 = keras.layers.Dense(8, activation='relu')(input2)\n",
    "conatenated = keras.layers.conatenate([x1, x2],axis=1)\n",
    " \n",
    "out = keras.layers.Dense(4)(conatenated)\n",
    "model = keras.models.Model(inputs=[input1, input2], outputs=out)\n",
    "\n",
    "x = Conv2D(16, (3, 3), activation='relu', padding='same')(input_img)\n",
    "x = MaxPooling2D((2, 2), padding='same')(x)\n",
    "x = Conv2D(8, (3, 3), activation='relu', padding='same')(x)\n",
    "x = MaxPooling2D((2, 2), padding='same')(x)\n",
    "x = Conv2D(8, (3, 3), activation='relu', padding='same')(x)\n",
    "encoded = MaxPooling2D((2, 2), padding='same')(x)\n",
    "\n",
    "x = Conv2D(8, (3, 3), activation='relu', padding='same')(encoded)\n",
    "x = UpSampling2D((2, 2))(x)\n",
    "x = Conv2D(8, (3, 3), activation='relu', padding='same')(x)\n",
    "x = UpSampling2D((2, 2))(x)\n",
    "x = Conv2D(16, (3, 3), activation='relu')(x)\n",
    "x = UpSampling2D((2, 2))(x)\n",
    "decoded = Conv2D(1, (3, 3), activation='sigmoid', padding='same')(x)\n",
    "\n",
    "autoencoder = Model(inputs=input_img, outputs=decoded)\n",
    "autoencoder.compile(optimizer='adagrad', loss='binary_crossentropy')\n",
    "\n",
    "autoencoder.fit(x_train, x_train, epochs=50, batch_size=256,\n",
    "                shuffle=True, validation_data=(x_test, x_test),\n",
    "                callbacks=[TensorBoard(log_dir='autoencoder')])\n",
    "\n",
    "model.add(Conv2D(32, (3, 3), activation='relu', input_shape=(100, 100, 3)))\n",
    "model.add(Conv2D(32, (3, 3), activation='relu'))\n",
    "model.add(MaxPooling2D(pool_size=(2, 2)))\n",
    "model.add(Dropout(0.25))\n",
    " \n",
    "model.add(Conv2D(64, (3, 3), activation='relu'))\n",
    "model.add(Conv2D(64, (3, 3), activation='relu'))\n",
    "model.add(MaxPooling2D(pool_size=(2, 2)))\n",
    "model.add(Dropout(0.25))\n",
    " \n",
    "model.add(Flatten())\n",
    "model.add(Dense(256, activation='relu'))\n",
    "model.add(Dropout(0.5))\n",
    "model.add(Dense(10, activation='softmax'))\n",
    "\n",
    "\n",
    "model.summary()"
   ]
  },
  {
   "cell_type": "code",
   "execution_count": 115,
   "metadata": {},
   "outputs": [
    {
     "name": "stdout",
     "output_type": "stream",
     "text": [
      "Train on 2000 samples, validate on 761 samples\n",
      "Epoch 1/20\n",
      "2000/2000 [==============================] - 2s 1ms/step - loss: 0.4469 - accuracy: 5.0000e-04 - val_loss: 0.4089 - val_accuracy: 0.0013\n",
      "Epoch 2/20\n",
      "2000/2000 [==============================] - 2s 960us/step - loss: 0.3850 - accuracy: 0.0015 - val_loss: 0.3726 - val_accuracy: 0.0013\n",
      "Epoch 3/20\n",
      "2000/2000 [==============================] - 2s 944us/step - loss: 0.3610 - accuracy: 0.0010 - val_loss: 0.3532 - val_accuracy: 0.0000e+00\n",
      "Epoch 4/20\n",
      "2000/2000 [==============================] - 2s 987us/step - loss: 0.3490 - accuracy: 0.0015 - val_loss: 0.3456 - val_accuracy: 0.0000e+00\n",
      "Epoch 5/20\n",
      "2000/2000 [==============================] - 2s 987us/step - loss: 0.3425 - accuracy: 0.0025 - val_loss: 0.3396 - val_accuracy: 0.0000e+00\n",
      "Epoch 6/20\n",
      "2000/2000 [==============================] - 2s 984us/step - loss: 0.3356 - accuracy: 0.0000e+00 - val_loss: 0.3339 - val_accuracy: 0.0000e+00\n",
      "Epoch 7/20\n",
      "2000/2000 [==============================] - 2s 979us/step - loss: 0.3314 - accuracy: 0.0030 - val_loss: 0.3288 - val_accuracy: 0.0000e+00\n",
      "Epoch 8/20\n",
      "2000/2000 [==============================] - 2s 984us/step - loss: 0.3235 - accuracy: 0.0010 - val_loss: 0.3211 - val_accuracy: 0.0000e+00\n",
      "Epoch 9/20\n",
      "2000/2000 [==============================] - 2s 1ms/step - loss: 0.3184 - accuracy: 5.0000e-04 - val_loss: 0.3156 - val_accuracy: 0.0000e+00\n",
      "Epoch 10/20\n",
      "2000/2000 [==============================] - 8s 4ms/step - loss: 0.3111 - accuracy: 0.0030 - val_loss: 0.3087 - val_accuracy: 0.0026\n",
      "Epoch 11/20\n",
      "2000/2000 [==============================] - 2s 979us/step - loss: 0.3083 - accuracy: 0.0015 - val_loss: 0.3072 - val_accuracy: 0.0000e+00\n",
      "Epoch 12/20\n",
      "2000/2000 [==============================] - 2s 960us/step - loss: 0.3068 - accuracy: 0.0045 - val_loss: 0.3057 - val_accuracy: 0.0013\n",
      "Epoch 13/20\n",
      "2000/2000 [==============================] - 2s 979us/step - loss: 0.3038 - accuracy: 0.0030 - val_loss: 0.2980 - val_accuracy: 0.0092\n",
      "Epoch 14/20\n",
      "2000/2000 [==============================] - 2s 987us/step - loss: 0.2950 - accuracy: 0.0030 - val_loss: 0.2910 - val_accuracy: 0.0000e+00\n",
      "Epoch 15/20\n",
      "2000/2000 [==============================] - 8s 4ms/step - loss: 0.2906 - accuracy: 0.0025 - val_loss: 0.2905 - val_accuracy: 0.0000e+00\n",
      "Epoch 16/20\n",
      "2000/2000 [==============================] - 2s 1ms/step - loss: 0.2905 - accuracy: 0.0000e+00 - val_loss: 0.2904 - val_accuracy: 0.0000e+00\n",
      "Epoch 17/20\n",
      "2000/2000 [==============================] - 2s 984us/step - loss: 0.2883 - accuracy: 0.0010 - val_loss: 0.2873 - val_accuracy: 0.0000e+00\n",
      "Epoch 18/20\n",
      "2000/2000 [==============================] - 2s 995us/step - loss: 0.2872 - accuracy: 0.0015 - val_loss: 0.2874 - val_accuracy: 0.0026\n",
      "Epoch 19/20\n",
      "2000/2000 [==============================] - 3s 1ms/step - loss: 0.2872 - accuracy: 5.0000e-04 - val_loss: 0.2876 - val_accuracy: 0.0053\n",
      "Epoch 20/20\n",
      "2000/2000 [==============================] - 7s 3ms/step - loss: 0.2843 - accuracy: 0.0010 - val_loss: 0.2817 - val_accuracy: 0.0000e+00\n"
     ]
    }
   ],
   "source": [
    "\n",
    "# define two sets of inputs\n",
    "def root_mean_squared_error(y_true, y_pred): \n",
    "     return K.sqrt(K.mean(K.square(y_pred - y_true), axis=-1)) \n",
    "#input_img = Input(shape=(32, 32, 1))    \n",
    "#def training_model(x_train,y_train,batch_size,epochs):\n",
    "model = Sequential()\n",
    "inputA = Input(shape=(6,))\n",
    "inputB = Input(shape=(1024,))\n",
    "# the first branch operates on the first input\n",
    "#x = Dense(6, activation=\"relu\")(inputA)\n",
    "#x = Dense(4, activation=\"relu\")(x)\n",
    "#x = Model(inputs=inputA, outputs=x)\n",
    "# the second branch opreates on the second input\n",
    "y = Dense(256, activation=\"relu\")(inputB)\n",
    "#y = Dense(64, activation=\"relu\")(y)\n",
    "#y = Dense(16, activation=\"relu\")(y)\n",
    "#y = Dense(4, activation=\"relu\")(y)\n",
    "#y = Model(inputs=inputB, outputs=y)\n",
    "# combine the output of the two branches\n",
    "#combined = concatenate([x.output, y.output])\n",
    "# apply a FC layer and then a regression prediction on the\n",
    "# combined outputs\n",
    "z = Dense(256, activation=\"relu\")(y)\n",
    "#z = Dense(64, activation=\"relu\")(z)\n",
    "#z = Dense(256, activation=\"relu\")(z)\n",
    "z = Dense(1024, activation=\"relu\",use_bias = True)(z)\n",
    "\n",
    "#z = Dense(1, activation=\"linear\")(z)\n",
    "# our model will accept the inputs of the two branches and\n",
    "# then output a single value\n",
    "#model = Model(inputs=[x.input, y.input], outputs=z)\n",
    "model = Model(inputs=inputB,outputs=z)\n",
    "model.compile(optimizer = \"rmsprop\", loss = root_mean_squared_error,metrics =[\"accuracy\"])\n",
    "#history = model.fit(x_train, y_train, batch_size=batch_size, epochs=epochs, validation_split=0.3)\n",
    "#history = model.fit(x=[x_train, xx_train], y=y_train,validation_data=([x_test, xx_test], y_test),epochs=20, batch_size=8)\n",
    "history = model.fit(xx_train, y_train,validation_data=(xx_test, y_test),epochs=20, batch_size=8)"
   ]
  },
  {
   "cell_type": "code",
   "execution_count": 15,
   "metadata": {
    "scrolled": true
   },
   "outputs": [],
   "source": [
    "# define two sets of inputs\n",
    "inputA = Input(shape=(32,))\n",
    "inputB = Input(shape=(128,))\n",
    "# the first branch operates on the first input\n",
    "x = Dense(8, activation=\"relu\")(inputA)\n",
    "x = Dense(4, activation=\"relu\")(x)\n",
    "x = Model(inputs=inputA, outputs=x)\n",
    "# the second branch opreates on the second input\n",
    "y = Dense(64, activation=\"relu\")(inputB)\n",
    "y = Dense(32, activation=\"relu\")(y)\n",
    "y = Dense(4, activation=\"relu\")(y)\n",
    "y = Model(inputs=inputB, outputs=y)\n",
    "# combine the output of the two branches\n",
    "combined = concatenate([x.output, y.output])\n",
    "# apply a FC layer and then a regression prediction on the\n",
    "# combined outputs\n",
    "z = Dense(2, activation=\"relu\")(combined)\n",
    "z = Dense(1, activation=\"linear\")(z)\n",
    "# our model will accept the inputs of the two branches and\n",
    "# then output a single value"
   ]
  },
  {
   "cell_type": "code",
   "execution_count": 116,
   "metadata": {},
   "outputs": [
    {
     "name": "stdout",
     "output_type": "stream",
     "text": [
      "[0.7697148  0.7649214  0.76045084 ... 0.77220476 0.7677882  0.76939183]\n",
      "[0.79000025 0.79000611 0.79002775 ... 0.79804825 0.79804275 0.798041  ]\n"
     ]
    },
    {
     "data": {
      "image/png": "[encoded data removed]",
      "text/plain": [
       "<Figure size 432x288 with 1 Axes>"
      ]
     },
     "metadata": {
      "needs_background": "light"
     },
     "output_type": "display_data"
    }
   ],
   "source": [
    "#y_prediction = model.predict([x_train,xx_train])\n",
    "y_prediction = model.predict(xx_train)\n",
    "print(y_prediction[7])\n",
    "print(y_train[7])\n",
    "plt.imshow(y_train[7].reshape(32, 32))\n",
    "plt.show()"
   ]
  },
  {
   "cell_type": "code",
   "execution_count": 118,
   "metadata": {},
   "outputs": [
    {
     "data": {
      "image/png": "[encoded data removed]",
      "text/plain": [
       "<Figure size 432x288 with 1 Axes>"
      ]
     },
     "metadata": {
      "needs_background": "light"
     },
     "output_type": "display_data"
    },
    {
     "name": "stdout",
     "output_type": "stream",
     "text": [
      "0.0\n",
      "[0.77187216 0.76742965 0.76578677 ... 0.77361715 0.77050185 0.7717877 ]\n",
      "[0.7726419  0.7673607  0.7645923  ... 0.77393293 0.7702391  0.7718134 ]\n"
     ]
    }
   ],
   "source": [
    "plt.imshow(y_prediction[78,:].reshape(32, 32))\n",
    "plt.show()\n",
    "#print(np.nonzero(y_prediction[7]))\n",
    "print(min(y_prediction[7]))\n",
    "print(y_prediction[2])\n",
    "print(y_prediction[3])"
   ]
  },
  {
   "cell_type": "code",
   "execution_count": 49,
   "metadata": {},
   "outputs": [
    {
     "data": {
      "image/png": "[encoded data removed]",
      "text/plain": [
       "<Figure size 432x288 with 1 Axes>"
      ]
     },
     "metadata": {
      "needs_background": "light"
     },
     "output_type": "display_data"
    }
   ],
   "source": [
    "\n",
    "history_dict = history.history\n",
    "loss_values = history_dict['loss']\n",
    "#val_loss_values = history_dict['val_loss']\n",
    "\n",
    "epochs = range(1, len(loss_values) + 1)\n",
    "\n",
    "plt.plot(epochs, loss_values, 'bo', label='Training loss')\n",
    "#plt.plot(epochs, val_loss_values, 'b', label='Validation loss')\n",
    "plt.title('Training and validation loss')\n",
    "plt.xlabel('Epochs')\n",
    "plt.ylabel('Loss')\n",
    "plt.legend()\n",
    "\n",
    "plt.show()\n"
   ]
  },
  {
   "cell_type": "code",
   "execution_count": 100,
   "metadata": {},
   "outputs": [
    {
     "data": {
      "image/png": "[encoded data removed]",
      "text/plain": [
       "<Figure size 432x288 with 1 Axes>"
      ]
     },
     "metadata": {
      "needs_background": "light"
     },
     "output_type": "display_data"
    }
   ],
   "source": [
    "plt.imshow(xx_train[200].reshape(32, 32))\n",
    "plt.show()"
   ]
  },
  {
   "cell_type": "code",
   "execution_count": 76,
   "metadata": {},
   "outputs": [
    {
     "ename": "SyntaxError",
     "evalue": "invalid syntax (<ipython-input-76-22afa8bd9eca>, line 1)",
     "output_type": "error",
     "traceback": [
      "\u001b[1;36m  File \u001b[1;32m\"<ipython-input-76-22afa8bd9eca>\"\u001b[1;36m, line \u001b[1;32m1\u001b[0m\n\u001b[1;33m    function min(arr){\u001b[0m\n\u001b[1;37m               ^\u001b[0m\n\u001b[1;31mSyntaxError\u001b[0m\u001b[1;31m:\u001b[0m invalid syntax\n"
     ]
    }
   ],
   "source": [
    "\n",
    "function min(arr){\n",
    "  arr = arr.filter(item => !_isNaN(item))\n",
    "  return arr.length ? Math.min.apply(null, arr) : undefined\n",
    "}\n",
    "\n",
    "result = min(y_predition[2])"
   ]
  },
  {
   "cell_type": "code",
   "execution_count": 85,
   "metadata": {},
   "outputs": [
    {
     "name": "stdout",
     "output_type": "stream",
     "text": [
      "3.5999999999999996\n"
     ]
    }
   ],
   "source": [
    "print(max(xx_train[7]))"
   ]
  },
  {
   "cell_type": "code",
   "execution_count": 113,
   "metadata": {},
   "outputs": [
    {
     "ename": "NameError",
     "evalue": "name 'nah' is not defined",
     "output_type": "error",
     "traceback": [
      "\u001b[1;31m---------------------------------------------------------------------------\u001b[0m",
      "\u001b[1;31mNameError\u001b[0m                                 Traceback (most recent call last)",
      "\u001b[1;32m<ipython-input-113-995e8974da5c>\u001b[0m in \u001b[0;36m<module>\u001b[1;34m\u001b[0m\n\u001b[0;32m      1\u001b[0m \u001b[1;32mfor\u001b[0m \u001b[0mi\u001b[0m \u001b[1;32min\u001b[0m\u001b[1;33m(\u001b[0m\u001b[0mrange\u001b[0m\u001b[1;33m(\u001b[0m\u001b[0my_prediction\u001b[0m\u001b[1;33m[\u001b[0m\u001b[1;36m7\u001b[0m\u001b[1;33m]\u001b[0m\u001b[1;33m.\u001b[0m\u001b[0mshape\u001b[0m\u001b[1;33m[\u001b[0m\u001b[1;36m0\u001b[0m\u001b[1;33m]\u001b[0m\u001b[1;33m)\u001b[0m\u001b[1;33m)\u001b[0m\u001b[1;33m:\u001b[0m\u001b[1;33m\u001b[0m\u001b[1;33m\u001b[0m\u001b[0m\n\u001b[0;32m      2\u001b[0m   \u001b[1;32mif\u001b[0m \u001b[0my_prediction\u001b[0m\u001b[1;33m[\u001b[0m\u001b[1;36m7\u001b[0m\u001b[1;33m]\u001b[0m\u001b[1;33m[\u001b[0m\u001b[0mi\u001b[0m\u001b[1;33m]\u001b[0m \u001b[1;33m==\u001b[0m \u001b[1;36m0\u001b[0m \u001b[1;33m:\u001b[0m\u001b[1;33m\u001b[0m\u001b[1;33m\u001b[0m\u001b[0m\n\u001b[1;32m----> 3\u001b[1;33m     \u001b[0my_prediction\u001b[0m\u001b[1;33m[\u001b[0m\u001b[1;36m7\u001b[0m\u001b[1;33m]\u001b[0m\u001b[1;33m[\u001b[0m\u001b[0mi\u001b[0m\u001b[1;33m]\u001b[0m \u001b[1;33m=\u001b[0m \u001b[0mnah\u001b[0m\u001b[1;33m\u001b[0m\u001b[1;33m\u001b[0m\u001b[0m\n\u001b[0m",
      "\u001b[1;31mNameError\u001b[0m: name 'nah' is not defined"
     ]
    }
   ],
   "source": [
    "for i in(range(y_prediction[7].shape[0])):\n",
    "  if y_prediction[7][i] == 0 :\n",
    "    y_prediction[7][i] = "
   ]
  },
  {
   "cell_type": "code",
   "execution_count": 102,
   "metadata": {},
   "outputs": [
    {
     "data": {
      "image/png": "[encoded data removed]",
      "text/plain": [
       "<Figure size 432x288 with 1 Axes>"
      ]
     },
     "metadata": {
      "needs_background": "light"
     },
     "output_type": "display_data"
    }
   ],
   "source": [
    "plt.imshow(y_prediction[7].reshape(32, 32))\n",
    "plt.show()"
   ]
  },
  {
   "cell_type": "code",
   "execution_count": 112,
   "metadata": {},
   "outputs": [
    {
     "ename": "AttributeError",
     "evalue": "'numpy.ndarray' object has no attribute 'interpolate'",
     "output_type": "error",
     "traceback": [
      "\u001b[1;31m---------------------------------------------------------------------------\u001b[0m",
      "\u001b[1;31mAttributeError\u001b[0m                            Traceback (most recent call last)",
      "\u001b[1;32m<ipython-input-112-586aa74131ea>\u001b[0m in \u001b[0;36m<module>\u001b[1;34m\u001b[0m\n\u001b[1;32m----> 1\u001b[1;33m \u001b[0my_train\u001b[0m\u001b[1;33m[\u001b[0m\u001b[1;36m7\u001b[0m\u001b[1;33m]\u001b[0m\u001b[1;33m.\u001b[0m\u001b[0minterpolate\u001b[0m\u001b[1;33m(\u001b[0m\u001b[1;33m)\u001b[0m\u001b[1;33m\u001b[0m\u001b[1;33m\u001b[0m\u001b[0m\n\u001b[0m",
      "\u001b[1;31mAttributeError\u001b[0m: 'numpy.ndarray' object has no attribute 'interpolate'"
     ]
    }
   ],
   "source": [
    "y_train[7].interpolate()"
   ]
  },
  {
   "cell_type": "code",
   "execution_count": 205,
   "metadata": {},
   "outputs": [
    {
     "name": "stdout",
     "output_type": "stream",
     "text": [
      "(2761, 32, 1, 32)\n",
      "(2761, 32, 32, 1)\n",
      "Model: \"model_76\"\n",
      "_________________________________________________________________\n",
      "Layer (type)                 Output Shape              Param #   \n",
      "=================================================================\n",
      "input_81 (InputLayer)        (None, 32, 32, 1)         0         \n",
      "_________________________________________________________________\n",
      "conv2d_230 (Conv2D)          (None, 32, 32, 128)       1280      \n",
      "_________________________________________________________________\n",
      "max_pooling2d_98 (MaxPooling (None, 16, 16, 128)       0         \n",
      "_________________________________________________________________\n",
      "conv2d_231 (Conv2D)          (None, 16, 16, 16)        18448     \n",
      "_________________________________________________________________\n",
      "max_pooling2d_99 (MaxPooling (None, 8, 8, 16)          0         \n",
      "_________________________________________________________________\n",
      "conv2d_232 (Conv2D)          (None, 8, 8, 16)          2320      \n",
      "_________________________________________________________________\n",
      "up_sampling2d_95 (UpSampling (None, 16, 16, 16)        0         \n",
      "_________________________________________________________________\n",
      "conv2d_233 (Conv2D)          (None, 16, 16, 128)       18560     \n",
      "_________________________________________________________________\n",
      "up_sampling2d_96 (UpSampling (None, 32, 32, 128)       0         \n",
      "_________________________________________________________________\n",
      "conv2d_234 (Conv2D)          (None, 32, 32, 1)         1153      \n",
      "=================================================================\n",
      "Total params: 41,761\n",
      "Trainable params: 41,761\n",
      "Non-trainable params: 0\n",
      "_________________________________________________________________\n",
      "Train on 2000 samples, validate on 761 samples\n",
      "Epoch 1/10\n",
      "2000/2000 [==============================] - 22s 11ms/step - loss: 0.2059 - accuracy: 0.0000e+00 - val_loss: 0.2059 - val_accuracy: 0.0000e+00\n",
      "Epoch 2/10\n",
      "2000/2000 [==============================] - 23s 11ms/step - loss: 0.2059 - accuracy: 0.0000e+00 - val_loss: 0.2059 - val_accuracy: 0.0000e+00\n",
      "Epoch 3/10\n",
      "2000/2000 [==============================] - 21s 10ms/step - loss: 0.2059 - accuracy: 0.0000e+00 - val_loss: 0.2059 - val_accuracy: 0.0000e+00\n",
      "Epoch 4/10\n",
      "2000/2000 [==============================] - 23s 11ms/step - loss: 0.2059 - accuracy: 0.0000e+00 - val_loss: 0.2059 - val_accuracy: 0.0000e+00\n",
      "Epoch 5/10\n",
      "2000/2000 [==============================] - 22s 11ms/step - loss: 0.2059 - accuracy: 0.0000e+00 - val_loss: 0.2059 - val_accuracy: 0.0000e+00\n",
      "Epoch 6/10\n",
      "2000/2000 [==============================] - 19s 9ms/step - loss: 0.2059 - accuracy: 0.0000e+00 - val_loss: 0.2059 - val_accuracy: 0.0000e+00\n",
      "Epoch 7/10\n",
      "2000/2000 [==============================] - 23s 11ms/step - loss: 0.2059 - accuracy: 0.0000e+00 - val_loss: 0.2059 - val_accuracy: 0.0000e+00\n",
      "Epoch 8/10\n",
      "2000/2000 [==============================] - 20s 10ms/step - loss: 0.2059 - accuracy: 0.0000e+00 - val_loss: 0.2059 - val_accuracy: 0.0000e+00\n",
      "Epoch 9/10\n",
      "2000/2000 [==============================] - 24s 12ms/step - loss: 0.2059 - accuracy: 0.0000e+00 - val_loss: 0.2059 - val_accuracy: 0.0000e+00\n",
      "Epoch 10/10\n",
      "2000/2000 [==============================] - 22s 11ms/step - loss: 0.2059 - accuracy: 0.0000e+00 - val_loss: 0.2059 - val_accuracy: 0.0000e+00\n"
     ]
    },
    {
     "data": {
      "text/plain": [
       "<keras.callbacks.callbacks.History at 0x2a38ddb0d30>"
      ]
     },
     "execution_count": 205,
     "metadata": {},
     "output_type": "execute_result"
    }
   ],
   "source": [
    "def root_mean_squared_error(y_true, y_pred): \n",
    "     return K.sqrt(K.mean(K.square(y_pred - y_true), axis=-1))\n",
    "\n",
    "Input_current1=np.expand_dims(Input_current,axis=2)\n",
    "print(Input_current1.shape)\n",
    "Input_current1=np.transpose(Input_current1,(0,1,3,2))\n",
    "\n",
    "Output1=np.expand_dims(Output,axis=2)\n",
    "#print(y_train1.shape)\n",
    "Output1=np.transpose(Output1,(0,1,3,2))\n",
    "#y_test1=np.expand_dims(y_test,axis=2)\n",
    "#y_test1=np.transpose(y_test1,(0,1,3,2))\n",
    "\n",
    "#Input_current= np.squeeze(Input_current)\n",
    "print(Input_current1.shape)\n",
    "Input_train = Input_current1[:2000]\n",
    "Input_test = Input_current1[2000:]\n",
    "Output_train = Output1[:2000]\n",
    "Output_test = Output1[2000:]\n",
    "input_img = Input(shape=(32, 32, 1))\n",
    "x = Conv2D(128, (3, 3), activation='relu', padding='same')(input_img)\n",
    "x = MaxPooling2D((2, 2), padding='same')(x)\n",
    "x = Conv2D(16, (3, 3), activation='relu', padding='same')(x)\n",
    "#x = MaxPooling2D((2, 2), padding='same')(x)\n",
    "#x = Conv2D(8, (3, 3), activation='relu', padding='same')(x)\n",
    "encoded = MaxPooling2D((2, 2), padding='same')(x)\n",
    "\n",
    "#x = Conv2D(8, (3, 3), activation='relu', padding='same')(encoded)\n",
    "#x = UpSampling2D((2, 2))(x)\n",
    "x = Conv2D(16, (3, 3), activation='relu', padding='same')(encoded)\n",
    "x = UpSampling2D((2, 2))(x)\n",
    "x = Conv2D(128, (3, 3), activation='relu',padding='same')(x)\n",
    "x = UpSampling2D((2, 2))(x)\n",
    "decoded = Conv2D(1, (3, 3), activation='softmax', padding='same')(x)\n",
    "autoencoder.summary()\n",
    "autoencoder = Model(inputs=input_img, outputs=decoded)\n",
    "#autoencoder.compile(optimizer='adagrad', loss='binary_crossentropy')\n",
    "#from keras.callbacks import TensorBoard, CSVLogger, EarlyStopping\n",
    "#callbacks=[TensorBoard(log_dir='autoencoder')] rmsprop\n",
    "sgd = SGD(lr=0.0001, decay=1e-6, momentum=0.9, nesterov=True)\n",
    "autoencoder.compile(optimizer = \"sgd\", loss = root_mean_squared_error,metrics =[\"accuracy\"])\n",
    "learning_rate = 0.001\n",
    "#autoencoder.compile(tf.compat.v1.train.GradientDescentOptimizer(learning_rate),loss=tf.keras.metrics.mean_squared_error,metrics=[tf.keras.metrics.RootMeanSquaredError()])\n",
    "autoencoder.fit(Input_train, Output_train, epochs=10, batch_size=16,validation_data=(Input_test, Output_test))\n"
   ]
  },
  {
   "cell_type": "code",
   "execution_count": 206,
   "metadata": {},
   "outputs": [
    {
     "name": "stdout",
     "output_type": "stream",
     "text": [
      "[[[1.]\n",
      "  [1.]\n",
      "  [1.]\n",
      "  ...\n",
      "  [1.]\n",
      "  [1.]\n",
      "  [1.]]\n",
      "\n",
      " [[1.]\n",
      "  [1.]\n",
      "  [1.]\n",
      "  ...\n",
      "  [1.]\n",
      "  [1.]\n",
      "  [1.]]\n",
      "\n",
      " [[1.]\n",
      "  [1.]\n",
      "  [1.]\n",
      "  ...\n",
      "  [1.]\n",
      "  [1.]\n",
      "  [1.]]\n",
      "\n",
      " ...\n",
      "\n",
      " [[1.]\n",
      "  [1.]\n",
      "  [1.]\n",
      "  ...\n",
      "  [1.]\n",
      "  [1.]\n",
      "  [1.]]\n",
      "\n",
      " [[1.]\n",
      "  [1.]\n",
      "  [1.]\n",
      "  ...\n",
      "  [1.]\n",
      "  [1.]\n",
      "  [1.]]\n",
      "\n",
      " [[1.]\n",
      "  [1.]\n",
      "  [1.]\n",
      "  ...\n",
      "  [1.]\n",
      "  [1.]\n",
      "  [1.]]]\n"
     ]
    },
    {
     "data": {
      "image/png": "[encoded data removed]",
      "text/plain": [
       "<Figure size 432x288 with 1 Axes>"
      ]
     },
     "metadata": {
      "needs_background": "light"
     },
     "output_type": "display_data"
    }
   ],
   "source": [
    "Output_prediction = autoencoder.predict(Input_train)\n",
    "#print(y_prediction[7])\n",
    "print(Output_prediction[82])\n",
    "plt.imshow(Output_prediction[82].reshape(32, 32))\n",
    "plt.show()"
   ]
  },
  {
   "cell_type": "code",
   "execution_count": 201,
   "metadata": {},
   "outputs": [
    {
     "data": {
      "image/png": "[encoded data removed]",
      "text/plain": [
       "<Figure size 432x288 with 1 Axes>"
      ]
     },
     "metadata": {
      "needs_background": "light"
     },
     "output_type": "display_data"
    }
   ],
   "source": [
    "plt.imshow(Input_train[82].reshape(32, 32))\n",
    "plt.show()"
   ]
  },
  {
   "cell_type": "code",
   "execution_count": null,
   "metadata": {},
   "outputs": [],
   "source": []
  }
 ],
 "metadata": {
  "kernelspec": {
   "display_name": "Python 3",
   "language": "python",
   "name": "python3"
  },
  "language_info": {
   "codemirror_mode": {
    "name": "ipython",
    "version": 3
   },
   "file_extension": ".py",
   "mimetype": "text/x-python",
   "name": "python",
   "nbconvert_exporter": "python",
   "pygments_lexer": "ipython3",
   "version": "3.6.8"
  }
 },
 "nbformat": 4,
 "nbformat_minor": 4
}
